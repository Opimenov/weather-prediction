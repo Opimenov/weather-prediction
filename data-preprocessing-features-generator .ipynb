{
 "cells": [
  {
   "cell_type": "markdown",
   "metadata": {
    "collapsed": true
   },
   "source": [
    "# CS670 Group Project Phase1\n",
    "# Team members:\n",
    "#  Alexander Burke  Alexander.Burke001@umb.edu\n",
    "# Divya Bajaj : Divya.Bajaj001@umb.edu\n",
    "# Yu-Ju Chien : Yuju.Chien001@umb.edu\n",
    "# Oleksandr Pimenov: pialgi@live.com"
   ]
  },
  {
   "cell_type": "code",
   "execution_count": 1,
   "metadata": {
    "collapsed": true
   },
   "outputs": [],
   "source": [
    "import pandas"
   ]
  },
  {
   "cell_type": "code",
   "execution_count": 7,
   "metadata": {
    "collapsed": true
   },
   "outputs": [],
   "source": [
    "years = range(1980, 2011)\n",
    "#set up list of meteorological variables\n",
    "meteo_vars = ['pw_','t850_','v850_','u850_','v300_','u300_','z1000_','z500_','z300_']\n",
    "days = range(0,10)\n",
    "df = pandas.DataFrame()"
   ]
  },
  {
   "cell_type": "code",
   "execution_count": 10,
   "metadata": {
    "collapsed": true
   },
   "outputs": [],
   "source": [
    "#for each day (we have 10 days 0-9, one sample has 10 days of data) \n",
    "for day in days:\n",
    "    #print day\n",
    "    #for each meteorological variable\n",
    "    for met_var in meteo_vars:\n",
    "        #print met_var\n",
    "        #create an empty data frame to be used as a container\n",
    "        df = pandas.DataFrame()\n",
    "        #for each year 1980 - 2011\n",
    "        for year in years:\n",
    "            #print year\n",
    "            #print 'df shape ', df.shape\n",
    "            #create a path based on meteo var and year\n",
    "            path = './raw_data/%s%d.csv' % (met_var,year)\n",
    "            #read one file from raw data\n",
    "            frame = pandas.read_csv(path)\n",
    "            #print 'frame shape ', frame.shape\n",
    "            #drop  first four columns\n",
    "            frame.drop(frame.columns[[0,1,2,3]], axis=1, inplace=True)\n",
    "            # add frame that we just read to the bottom of container\n",
    "            df = df.append(frame)\n",
    "            #print 'after concat df shape ', df.shape\n",
    "            #print 'end of inner for'\n",
    "        ## we need to delete \n",
    "        #day number of top rows\n",
    "        \n",
    "        indexes_to_drop_top = set(range(0,day))\n",
    "        \n",
    "        # 9 - day number of bottom rows\n",
    "        \n",
    "        indexes_to_drop_bot = set(range(df.shape[0], df.shape[0]- (10-day),-1))\n",
    "\n",
    "        #so the indecies that we need to drop are\n",
    "    \n",
    "        to_drop = indexes_to_drop_bot.union(indexes_to_drop_top)\n",
    "\n",
    "        # for improved performance it is better to take rows that we need\n",
    "    \n",
    "        indexes_to_keep = set(range(df.shape[0])) - to_drop\n",
    "\n",
    "        # take only needed rows since we are putting these frames side by side \n",
    "        #and shifting each one row up (like a staircase)\n",
    "        \n",
    "        df = df.take(list(indexes_to_keep))\n",
    "\n",
    "        #print 'after drop df shape ', df.shape\n",
    "        #print 'end of middle for loop'\n",
    "        #write one meteo variable for one day in separate file => 10 days x 9 vars = 90 files    \n",
    "        \n",
    "        df.to_csv(r'./sample_data/%s_%d.csv'%(met_var,day), header=None,index=None,sep=',')"
   ]
  }
 ],
 "metadata": {
  "kernelspec": {
   "display_name": "Python 2",
   "language": "python",
   "name": "python2"
  },
  "language_info": {
   "codemirror_mode": {
    "name": "ipython",
    "version": 2
   },
   "file_extension": ".py",
   "mimetype": "text/x-python",
   "name": "python",
   "nbconvert_exporter": "python",
   "pygments_lexer": "ipython2",
   "version": "2.7.14"
  }
 },
 "nbformat": 4,
 "nbformat_minor": 1
}
