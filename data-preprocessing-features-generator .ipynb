{
 "cells": [
  {
   "cell_type": "code",
   "execution_count": 1,
   "metadata": {
    "collapsed": true
   },
   "outputs": [],
   "source": [
    "import pandas"
   ]
  },
  {
   "cell_type": "code",
   "execution_count": 7,
   "metadata": {
    "collapsed": true
   },
   "outputs": [],
   "source": [
    "#list of available years\n",
    "years = range(1980, 2011)\n",
    "#set up list of meteorological variables\n",
    "meteo_vars = ['pw_','t850_','v850_','u850_','v300_','u300_','z1000_','z500_','z300_']\n",
    "#list of days to be used in a single feature \n",
    "days = range(0,10)"
   ]
  },
  {
   "cell_type": "code",
   "execution_count": 10,
   "metadata": {
    "collapsed": true
   },
   "outputs": [],
   "source": [
    "#for each day (we have 10 days 0-9, one sample has 10 days of data) \n",
    "for day in days:\n",
    "    #for each meteorological variable\n",
    "    for met_var in meteo_vars:\n",
    "        #create an empty data frame to be used as a container\n",
    "        df = pandas.DataFrame()\n",
    "        #for each year 1980 - 2011\n",
    "        for year in years:\n",
    "            #create a path based on meteo var and year\n",
    "            path = './raw_data/%s%d.csv' % (met_var,year)\n",
    "            #read one file from raw data\n",
    "            frame = pandas.read_csv(path)\n",
    "            #drop  first four columns\n",
    "            frame.drop(frame.columns[[0,1,2,3]], axis=1, inplace=True)\n",
    "            # add frame that we just read to the bottom of main container\n",
    "            df = df.append(frame)\n",
    "        ##since we are shifting consequent days UP we need to delete \n",
    "        #day number of top rows\n",
    "        indexes_to_drop_top = set(range(0,day))\n",
    "        # and 9 - day number of bottom rows\n",
    "        indexes_to_drop_bot = set(range(df.shape[0], df.shape[0]- (10-day),-1))\n",
    "        #so the indecies that we need to drop are\n",
    "        to_drop = indexes_to_drop_bot.union(indexes_to_drop_top)\n",
    "        # for improved performance it is better to take rows that we need\n",
    "        indexes_to_keep = set(range(df.shape[0])) - to_drop\n",
    "        # take only needed rows since we are putting these frames side by side \n",
    "        #and shifting each one row up (like a staircase)\n",
    "        df = df.take(list(indexes_to_keep))\n",
    "        #write one meteo variable for one day in separate file => 10 days x 9 vars = 90 files    \n",
    "        df.to_csv(r'./sample_data/%s_%d.csv'%(met_var,day), header=None,index=None,sep=',')"
   ]
  }
 ],
 "metadata": {
  "kernelspec": {
   "display_name": "Python 2",
   "language": "python",
   "name": "python2"
  },
  "language_info": {
   "codemirror_mode": {
    "name": "ipython",
    "version": 2
   },
   "file_extension": ".py",
   "mimetype": "text/x-python",
   "name": "python",
   "nbconvert_exporter": "python",
   "pygments_lexer": "ipython2",
   "version": "2.7.11"
  }
 },
 "nbformat": 4,
 "nbformat_minor": 1
}
