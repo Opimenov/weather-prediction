{
 "cells": [
  {
   "cell_type": "markdown",
   "metadata": {},
   "source": [
    "# CS670 Group Project Phase 3\n",
    "Team members:\n",
    "Alexander Burke Alexander.Burke001@umb.edu\n",
    "Divya Bajaj : Divya.Bajaj001@umb.edu\n",
    "Yu-Ju Chien : Yuju.Chien001@umb.edu\n",
    "Oleksandr Pimenov: pialgi@live.com"
   ]
  },
  {
   "cell_type": "code",
   "execution_count": 12,
   "metadata": {},
   "outputs": [
    {
     "name": "stdout",
     "output_type": "stream",
     "text": [
      "[[  12.66      15.85     279.88     290.75   ]\n",
      " [  13.5      -13.42     279.48     290.91   ]\n",
      " [  11.28       8.75     279.83     291.23   ]\n",
      " ..., \n",
      " [   0.70001   -1.88     284.47     288.55   ]\n",
      " [   5.12      -2.23     282.5      289.02   ]\n",
      " [   7.7        3.42     282.4      289.55   ]]\n",
      " \n",
      "[[ 0.0313305   0.039225    0.69263676  0.71953744]\n",
      " [ 0.03342772 -0.03322963  0.69202804  0.72033018]\n",
      " [ 0.0279116   0.02165128  0.69242044  0.72062897]\n",
      " ..., \n",
      " [ 0.00172756 -0.00463967  0.70204566  0.71211472]\n",
      " [ 0.01266729 -0.0055172   0.69892778  0.71505878]\n",
      " [ 0.01903354  0.00845386  0.69806118  0.71573518]]\n",
      "((9497L, 4L), (1803L, 4L))\n",
      "((9497L, 1L), (1803L, 1L))\n"
     ]
    }
   ],
   "source": [
    "import numpy as np\n",
    "from sklearn import preprocessing\n",
    "\n",
    "# Task 1: Split the experimental samples and normalize the samples\n",
    "data0 = np.load('data_selected_1980_2010.npy').astype(np.float)\n",
    "data1 = np.load('target_1980_2010.npy').astype(np.float)\n",
    "# Concatenate data_selected(features) with target\n",
    "data = np.concatenate((data0, data1), axis = 1)\n",
    "\n",
    "normalized_x = preprocessing.normalize(data0)\n",
    "print(data0)\n",
    "print(\" \")\n",
    "print(normalized_x)\n",
    "\n",
    "# Split the data to training set(first 9497 rows) and testing set(last 1803 rows)\n",
    "# split = 9497\n",
    "# train, test = data[:split, :], data[split:, :]\n",
    "# print(\"Training Set: \")\n",
    "# print(train)\n",
    "# print(train.shape)\n",
    "# print(\"Testing Set: \")\n",
    "# print(test)\n",
    "# print(test.shape)\n",
    "\n",
    "####################################################################\n",
    "split = 9497\n",
    "x_train, x_test, y_train, y_test = data0[:split, :], data0[split:, :], data1[:split, 1:], data1[split:, 1:]\n",
    "#np.array(['1','2','3']).astype(np.float)\n",
    "print(x_train.shape, x_test.shape)\n",
    "print(y_train.shape, y_test.shape)"
   ]
  },
  {
   "cell_type": "code",
   "execution_count": 17,
   "metadata": {},
   "outputs": [
    {
     "name": "stdout",
     "output_type": "stream",
     "text": [
      "[ 0.  0.  0. ...,  0.  0.  0.]\n",
      "Accuracy: 0.933999\n",
      "[[1684    0]\n",
      " [ 119    0]]\n",
      "             precision    recall  f1-score   support\n",
      "\n",
      "        0.0       0.93      1.00      0.97      1684\n",
      "        1.0       0.00      0.00      0.00       119\n",
      "\n",
      "avg / total       0.87      0.93      0.90      1803\n",
      "\n"
     ]
    }
   ],
   "source": [
    "# Naive Bayes Classifier\n",
    "from sklearn.naive_bayes import GaussianNB\n",
    "from sklearn import metrics\n",
    "\n",
    "gnb = GaussianNB()\n",
    "y_pred = gnb.fit(x_train, y_train).predict(x_test)\n",
    "print(y_pred)\n",
    "print \"Accuracy: %f\" % metrics.accuracy_score(y_test, y_pred)\n",
    "print(metrics.confusion_matrix(y_test, y_pred))\n",
    "print(metrics.classification_report(y_test, y_pred))"
   ]
  },
  {
   "cell_type": "code",
   "execution_count": null,
   "metadata": {
    "collapsed": true
   },
   "outputs": [],
   "source": [
    "# ROC curve and AUC\n"
   ]
  },
  {
   "cell_type": "code",
   "execution_count": 18,
   "metadata": {},
   "outputs": [
    {
     "name": "stdout",
     "output_type": "stream",
     "text": [
      "roc_auc_score = 0.500000\n"
     ]
    }
   ],
   "source": [
    "from sklearn.metrics import roc_auc_score\n",
    "\n",
    "# ROC_AUC_Score: Computing the area under the ROC-curve\n",
    "ras = roc_auc_score(y_test, y_pred)\n",
    "print \"roc_auc_score = %f\" % ras"
   ]
  }
 ],
 "metadata": {
  "kernelspec": {
   "display_name": "Python 2",
   "language": "python",
   "name": "python2"
  },
  "language_info": {
   "codemirror_mode": {
    "name": "ipython",
    "version": 2
   },
   "file_extension": ".py",
   "mimetype": "text/x-python",
   "name": "python",
   "nbconvert_exporter": "python",
   "pygments_lexer": "ipython2",
   "version": "2.7.13"
  }
 },
 "nbformat": 4,
 "nbformat_minor": 2
}
