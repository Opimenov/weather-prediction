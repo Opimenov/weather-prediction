{
 "cells": [
  {
   "cell_type": "markdown",
   "metadata": {},
   "source": [
    "# CS670 Group Project Phase 3\n",
    "Team members:<br>\n",
    "Alexander Burke Alexander.Burke001@umb.edu<br>\n",
    "Divya Bajaj : Divya.Bajaj001@umb.edu<br>\n",
    "Yu-Ju Chien : Yuju.Chien001@umb.edu<br>\n",
    "Oleksandr Pimenov: pialgi@live.com<br>"
   ]
  },
  {
   "cell_type": "code",
   "execution_count": 47,
   "metadata": {},
   "outputs": [
    {
     "name": "stdout",
     "output_type": "stream",
     "text": [
      "Raw data before normalization:\n",
      "[[  12.66      15.85     279.88     290.75   ]\n",
      " [  13.5      -13.42     279.48     290.91   ]\n",
      " [  11.28       8.75     279.83     291.23   ]\n",
      " ..., \n",
      " [   0.70001   -1.88     284.47     288.55   ]\n",
      " [   5.12      -2.23     282.5      289.02   ]\n",
      " [   7.7        3.42     282.4      289.55   ]]\n",
      "\n",
      "Data after normalization:\n",
      "[[ 0.0313305   0.039225    0.69263676  0.71953744]\n",
      " [ 0.03342772 -0.03322963  0.69202804  0.72033018]\n",
      " [ 0.0279116   0.02165128  0.69242044  0.72062897]\n",
      " ..., \n",
      " [ 0.00172756 -0.00463967  0.70204566  0.71211472]\n",
      " [ 0.01266729 -0.0055172   0.69892778  0.71505878]\n",
      " [ 0.01903354  0.00845386  0.69806118  0.71573518]]\n",
      "\n",
      "Size after spliting data into training set and testing set: \n",
      "((9497L, 4L), (1803L, 4L))\n",
      "((9497L, 1L), (1803L, 1L))\n",
      "\n",
      "Size of balanced data: \n",
      "(18102L, 4L)\n",
      "(18102L,)\n"
     ]
    }
   ],
   "source": [
    "import numpy as np\n",
    "from sklearn import preprocessing\n",
    "\n",
    "# Task 1: Split the experimental samples and normalize the samples\n",
    "data0 = np.load('data_selected_1980_2010.npy').astype(np.float)\n",
    "data1 = np.load('target_1980_2010.npy').astype(np.float)\n",
    "# Concatenate data_selected(features) with target\n",
    "data = np.concatenate((data0, data1), axis = 1)\n",
    "\n",
    "normalized_x = preprocessing.normalize(data0)\n",
    "print(\"Raw data before normalization:\")\n",
    "print(data0)\n",
    "print(\"\\nData after normalization:\")\n",
    "print(normalized_x)\n",
    "\n",
    "split = 9497\n",
    "x_train, x_test, y_train, y_test = data0[:split, :], data0[split:, :], data1[:split, 1:], data1[split:, 1:]\n",
    "print(\"\\nSize after spliting data into training set and testing set: \")\n",
    "print(x_train.shape, x_test.shape)\n",
    "print(y_train.shape, y_test.shape)\n",
    "\n",
    "from imblearn.over_sampling import SMOTE \n",
    "x_train_balanced, y_train_balanced = SMOTE().fit_sample(x_train, y_train.ravel())\n",
    "print(\"\\nSize of balanced data: \")\n",
    "print(x_train_balanced.shape)\n",
    "print(y_train_balanced.shape)"
   ]
  },
  {
   "cell_type": "code",
   "execution_count": 48,
   "metadata": {},
   "outputs": [
    {
     "name": "stdout",
     "output_type": "stream",
     "text": [
      "Accuracy: 0.933999\n",
      "[[1684    0]\n",
      " [ 119    0]]\n",
      "             precision    recall  f1-score   support\n",
      "\n",
      "        0.0       0.93      1.00      0.97      1684\n",
      "        1.0       0.00      0.00      0.00       119\n",
      "\n",
      "avg / total       0.87      0.93      0.90      1803\n",
      "\n"
     ]
    }
   ],
   "source": [
    "# Naive Bayes Classifier\n",
    "from sklearn.naive_bayes import GaussianNB\n",
    "from sklearn import metrics\n",
    "\n",
    "gnb = GaussianNB()\n",
    "y_pred = gnb.fit(x_train, y_train).predict(x_test)\n",
    "# print(y_pred)\n",
    "print \"Accuracy: %f\" % metrics.accuracy_score(y_test, y_pred)\n",
    "print(metrics.confusion_matrix(y_test, y_pred))\n",
    "print(metrics.classification_report(y_test, y_pred))\n",
    "\n",
    "# True Negative = 1684  False Positive = 0\n",
    "# False Negative = 119  True Positive = 0"
   ]
  },
  {
   "cell_type": "code",
   "execution_count": 49,
   "metadata": {},
   "outputs": [
    {
     "data": {
      "image/png": "[encoded data removed]",
      "text/plain": [
       "<matplotlib.figure.Figure at 0xebfa860>"
      ]
     },
     "metadata": {},
     "output_type": "display_data"
    },
    {
     "name": "stdout",
     "output_type": "stream",
     "text": [
      "AUC = 0.833225\n"
     ]
    }
   ],
   "source": [
    "# ROC Curve with imbalanced data\n",
    "from sklearn.metrics import roc_auc_score\n",
    "y_pred_prob = gnb.predict_proba(x_test)[::, 1]\n",
    "fpr, tpr, thresholds = metrics.roc_curve(y_test, y_pred_prob)\n",
    "# print(thresholds)\n",
    "auc = metrics.roc_auc_score(y_test, y_pred_prob)\n",
    "plot.title('ROC Curve')\n",
    "plot.plot(fpr, tpr, label = \"ROC curve: AUC = \" + str(auc))\n",
    "plot.legend(loc = 'lower right')\n",
    "plot.plot([0, 1], [0, 1], 'r--')\n",
    "plot.xlim([-0.05, 1.0])\n",
    "plot.ylim([-0.05, 1.05])\n",
    "plot.ylabel('True Positive Rate')\n",
    "plot.xlabel('False Positive Rate')\n",
    "plot.show()\n",
    "print \"AUC = %f\" % auc"
   ]
  },
  {
   "cell_type": "code",
   "execution_count": 50,
   "metadata": {},
   "outputs": [
    {
     "name": "stdout",
     "output_type": "stream",
     "text": [
      "Accuracy(balanced): 0.646700\n",
      "[[1056  628]\n",
      " [   9  110]]\n",
      "             precision    recall  f1-score   support\n",
      "\n",
      "        0.0       0.99      0.63      0.77      1684\n",
      "        1.0       0.15      0.92      0.26       119\n",
      "\n",
      "avg / total       0.94      0.65      0.73      1803\n",
      "\n"
     ]
    }
   ],
   "source": [
    "gnb_balanced = GaussianNB()\n",
    "y_pred = gnb_balanced.fit(x_train_balanced, y_train_balanced).predict(x_test)\n",
    "# print(y_pred)\n",
    "print \"Accuracy(balanced): %f\" % metrics.accuracy_score(y_test, y_pred)\n",
    "print(metrics.confusion_matrix(y_test, y_pred))\n",
    "print(metrics.classification_report(y_test, y_pred))\n",
    "\n",
    "# True Negative = 1059  False Positive = 625\n",
    "# False Negative = 10  True Positive = 109\n",
    "# Although the accuracy of balanced training data (0.647809) is way much lower\n",
    "# than the accuracy of imbalanced training data (0.933999), the precision of \n",
    "# balanced data set (0.94) is higher than the precision of imbalanced data set \n",
    "# (0.87)"
   ]
  },
  {
   "cell_type": "code",
   "execution_count": 51,
   "metadata": {},
   "outputs": [
    {
     "data": {
      "image/png": "[encoded data removed]",
      "text/plain": [
       "<matplotlib.figure.Figure at 0xf1b9390>"
      ]
     },
     "metadata": {},
     "output_type": "display_data"
    },
    {
     "name": "stdout",
     "output_type": "stream",
     "text": [
      "AUC = 0.843021\n"
     ]
    }
   ],
   "source": [
    "# ROC Curve with balanced data\n",
    "y_pred_prob = gnb_balanced.predict_proba(x_test)[::, 1]\n",
    "fpr, tpr, thresholds = metrics.roc_curve(y_test, y_pred_prob)\n",
    "# print(thresholds)\n",
    "auc = metrics.roc_auc_score(y_test, y_pred_prob)\n",
    "plot.title('ROC Curve')\n",
    "plot.plot(fpr, tpr, label = \"ROC curve: AUC = \" + str(auc))\n",
    "plot.legend(loc = 'lower right')\n",
    "plot.plot([0, 1], [0, 1], 'r--')\n",
    "plot.xlim([-0.05, 1.0])\n",
    "plot.ylim([-0.05, 1.05])\n",
    "plot.ylabel('True Positive Rate')\n",
    "plot.xlabel('False Positive Rate')\n",
    "plot.show()\n",
    "print \"AUC = %f\" % auc\n",
    "\n",
    "# The balanced data's AUC (0.841898) is better than the imbalanced data's AUC (0.833225)\n",
    "\n",
    "# For the best performance with KNN classifier and best performance with naive \n",
    "# bayes classifier, the naive bayes classifier gets higher AUC (0.843021) than\n",
    "# KNN's AUC (0.729131). Therefore, the naive bayes classifier is better to use in\n",
    "# this data set and the balanced data set gets better result than the imbalanced\n",
    "# data set"
   ]
  }
 ],
 "metadata": {
  "kernelspec": {
   "display_name": "Python 2",
   "language": "python",
   "name": "python2"
  },
  "language_info": {
   "codemirror_mode": {
    "name": "ipython",
    "version": 2
   },
   "file_extension": ".py",
   "mimetype": "text/x-python",
   "name": "python",
   "nbconvert_exporter": "python",
   "pygments_lexer": "ipython2",
   "version": "2.7.13"
  }
 },
 "nbformat": 4,
 "nbformat_minor": 2
}
