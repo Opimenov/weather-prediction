{
 "cells": [
  {
   "cell_type": "code",
   "execution_count": 1,
   "metadata": {
    "collapsed": true
   },
   "outputs": [],
   "source": [
    "import pandas as pd\n",
    "import itertools\n",
    "import csv\n",
    "import openpyxl as px\n",
    "import numpy as np\n",
    "import gmplot as gm"
   ]
  },
  {
   "cell_type": "code",
   "execution_count": 2,
   "metadata": {
    "collapsed": true
   },
   "outputs": [],
   "source": [
    "cor_methods = ['kendall','spearman','pearson']"
   ]
  },
  {
   "cell_type": "code",
   "execution_count": 6,
   "metadata": {
    "collapsed": false
   },
   "outputs": [
    {
     "name": "stdout",
     "output_type": "stream",
     "text": [
      "[30.0, 32.5, 25.0, 2.5, 65.0, 82.5, 17.5, 50.0, 10.0, 30.0, 50.0, 85.0, 2.5, 27.5, 40.0, 75.0, 37.5, 47.5, 42.5]\n",
      "[80.0, 90.0, 100.0, 232.5, 247.5, 332.5, 135.0, 257.5, 137.5, 200.0, 217.5, 225.0, 240.0, 350.0, 90.0, 15.0, 37.5, 170.0, 255.0]\n",
      "[30.0, 25.0, 32.5, 2.5, 60.0, 67.5, 82.5, 27.5, 17.5, 50.0, 5.0, 27.5, 72.5, 72.5, 75.0, 37.5, 40.0, 40.0]\n",
      "[80.0, 100.0, 90.0, 232.5, 240.0, 242.5, 330.0, 347.5, 135.0, 257.5, 295.0, 200.0, 260.0, 162.5, 12.5, 35.0, 77.5, 252.5]\n",
      "[30.0, 32.5, 5.0, 40.0, 35.0, 25.0, 67.5, 12.5, 5.0, 2.5, 2.5, 40.0, 87.5, 57.5, 35.0]\n",
      "[80.0, 90.0, 245.0, 262.5, 250.0, 115.0, 232.5, 135.0, 240.0, 292.5, 82.5, 77.5, 272.5, 40.0, 332.5]\n"
     ]
    }
   ],
   "source": [
    "for cor_method in cor_methods:\n",
    "    latitudes = []\n",
    "    longitudes = []\n",
    "    # Empty array to fetch all the relavant features in the CSV file.\n",
    "    feature = []\n",
    "    gmap = gm.GoogleMapPlotter(0,0,2)\n",
    "    with open('./sample_data/generated/relevant_features/%s.csv'%cor_method) as csvfile:\n",
    "        readCSV = csv.reader(csvfile)\n",
    "        # Fetching the 1st row\n",
    "        for row in itertools.islice(readCSV, 1):\n",
    "            # Adding the row in the feature array \n",
    "            feature.append(row)\t\t\n",
    "        # Iterating through the length of feature array\tand for each feature splitting it into 3 parts (Location ID, feature, Day)\n",
    "        for i in range(1,len(feature[0])):\n",
    "            name=feature[0][i]\n",
    "            parts = name.split(\"_\")\n",
    "            # Reading the longtitude_latitude xlsx file and parsing the sheet1\n",
    "            xl = pd.ExcelFile(\"./longtitude_latitude2.5.xlsx\")\t\n",
    "            df = xl.parse(\"Sheet1\")\n",
    "            #Iterating through all the rows of xlsx file and comparing the ID field with the parts[0]. Parts[0] is the location we got from split.\n",
    "            for index, row in df.iterrows():\n",
    "                # If both are equal, fetch the corresponding latitude and longtitude.\n",
    "                if parts[0] == str(int(row['ID'])):\n",
    "                    #Latitude of the location\n",
    "                    #print \"LAT \\n \" + str(row['lat'])\n",
    "                    latitudes.append(row['lat'])\n",
    "                    #Longitude of the location\n",
    "                    #print \"LONG \\n \" + str(row['long'])\n",
    "                    longitudes.append(row['long'])\n",
    "                    #Relavant feature \n",
    "                    #print \"part 1 \\n \" + parts[1] \n",
    "                    #Particular day\n",
    "                    #print \"part 2 \\n \" + parts[2]\n",
    "    print latitudes\n",
    "    print longitudes\n",
    "    gmap.scatter(latitudes, longitudes, 'r', marker=True, title=\"title\")\n",
    "    gmap.draw('./maps/map_of_%s.html'%cor_method)"
   ]
  },
  {
   "cell_type": "code",
   "execution_count": null,
   "metadata": {
    "collapsed": true
   },
   "outputs": [],
   "source": []
  }
 ],
 "metadata": {
  "kernelspec": {
   "display_name": "Python 2",
   "language": "python",
   "name": "python2"
  },
  "language_info": {
   "codemirror_mode": {
    "name": "ipython",
    "version": 2
   },
   "file_extension": ".py",
   "mimetype": "text/x-python",
   "name": "python",
   "nbconvert_exporter": "python",
   "pygments_lexer": "ipython2",
   "version": "2.7.11"
  }
 },
 "nbformat": 4,
 "nbformat_minor": 0
}
