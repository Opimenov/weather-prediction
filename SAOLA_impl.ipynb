{
 "cells": [
  {
   "cell_type": "code",
   "execution_count": 1,
   "metadata": {
    "collapsed": true
   },
   "outputs": [],
   "source": [
    "import numpy as np\n",
    "import pandas as pd\n",
    "import pdb\n",
    "#import time"
   ]
  },
  {
   "cell_type": "code",
   "execution_count": 2,
   "metadata": {
    "collapsed": true
   },
   "outputs": [],
   "source": [
    "meteo_vars = ['pw','t850','v850','u850','v300','u300','z1000','z500','z300']\n",
    "#Feature set at time st\n",
    "st = [pd.DataFrame([]), pd.DataFrame([]), pd.DataFrame([]), pd.DataFrame([])]\n",
    "# Total number of locations\n",
    "locations = 5328\n",
    "# Historical data time frame\n",
    "time = 11300\n",
    "# Offset of days\n",
    "offset = 6\n",
    "#Data frame of feature attributes, c\n",
    "c = pd.DataFrame(np.load('./sample_data/provided/target_1980_2010.npy')[:,0], columns=['target'])"
   ]
  },
  {
   "cell_type": "code",
   "execution_count": 17,
   "metadata": {
    "collapsed": false
   },
   "outputs": [],
   "source": [
    "# note: zs function has been tested\n",
    "# Takes two pandas frames as arguments\n",
    "def zs(crf1, crf2):\n",
    "\t#pdb.set_trace()\n",
    "\t# Pearson correlation coefficient, r\n",
    "\tr = crf1[crf1.columns[0]].corr(crf2[crf2.columns[0]],method='kendall')\n",
    "\t#print('Pearson coefficient %f' % (r))\n",
    "\t# Fisher Z transformation on r'\n",
    "\trp = np.arctanh(r)\n",
    "\t#print('Fisher Z trans %f' % (rp))\n",
    "\t# Standard Error Calculation for transformed correlation r'\n",
    "\tN = time\n",
    "\tsrp = 1/((N - 3.0)**(0.5))\n",
    "\t#print('Z-score: %f' %(rp/srp))\n",
    "\treturn rp/srp"
   ]
  },
  {
   "cell_type": "code",
   "execution_count": 4,
   "metadata": {
    "collapsed": true
   },
   "outputs": [],
   "source": [
    "def disc_prune(fi, m_b):\n",
    "\n",
    "\t#iterate across the features stored in the selected feature set\n",
    "\t\n",
    "\t# need to iterate from top of array since we're deleting elements as we go\n",
    "\tcol_ind = m_b.columns.values\n",
    "\t\n",
    "\tfor column in m_b:\n",
    "\t\ty = pd.DataFrame(m_b[column])\n",
    "\t\t\n",
    "\t\t# This checks for redundancy of the feature\n",
    "\t\tif abs(zs(y, c)) > abs(zs(fi, c)) and abs(zs(fi, y)) >= abs(zs(fi, c)):\n",
    "\t\t\treturn False\n",
    "\t\t\n",
    "\t\t# Newly found fi makes Y redundant -- fi is closer to the target feature\n",
    "\t\t# than fi\n",
    "\t\tif abs(zs(fi, c)) > abs(zs(y, c)) and abs(zs(fi, y)) >= abs(zs(fi, c)):\n",
    "\t\t\tm_b.drop(column, axis=1, inplace=True)"
   ]
  },
  {
   "cell_type": "code",
   "execution_count": 18,
   "metadata": {
    "collapsed": false,
    "scrolled": true
   },
   "outputs": [
    {
     "name": "stdout",
     "output_type": "stream",
     "text": [
      "Processing feature type pw\n",
      "Processing day 0\n",
      "Finished processing day 0\n",
      "Processing day 1\n",
      "Finished processing day 1\n",
      "Processing day 2\n",
      "Finished processing day 2\n",
      "Processing day 3\n",
      "Finished processing day 3\n",
      "Finished processing feature type pw\n",
      "Processing feature type t850\n",
      "Processing day 0\n",
      "Finished processing day 0\n",
      "Processing day 1\n",
      "Finished processing day 1\n",
      "Processing day 2\n",
      "Finished processing day 2\n",
      "Processing day 3\n",
      "Finished processing day 3\n",
      "Finished processing feature type t850\n",
      "Processing feature type v850\n",
      "Processing day 0\n",
      "Finished processing day 0\n",
      "Processing day 1\n",
      "Finished processing day 1\n",
      "Processing day 2\n",
      "Finished processing day 2\n",
      "Processing day 3\n",
      "Finished processing day 3\n",
      "Finished processing feature type v850\n",
      "Processing feature type u850\n",
      "Processing day 0\n",
      "Finished processing day 0\n",
      "Processing day 1\n",
      "Finished processing day 1\n",
      "Processing day 2\n",
      "Finished processing day 2\n",
      "Processing day 3\n",
      "Finished processing day 3\n",
      "Finished processing feature type u850\n",
      "Processing feature type v300\n",
      "Processing day 0\n",
      "Finished processing day 0\n",
      "Processing day 1\n",
      "Finished processing day 1\n",
      "Processing day 2\n",
      "Finished processing day 2\n",
      "Processing day 3\n",
      "Finished processing day 3\n",
      "Finished processing feature type v300\n",
      "Processing feature type u300\n",
      "Processing day 0\n",
      "Finished processing day 0\n",
      "Processing day 1\n",
      "Finished processing day 1\n",
      "Processing day 2\n",
      "Finished processing day 2\n",
      "Processing day 3\n",
      "Finished processing day 3\n",
      "Finished processing feature type u300\n",
      "Processing feature type z1000\n",
      "Processing day 0\n",
      "Finished processing day 0\n",
      "Processing day 1\n",
      "Finished processing day 1\n",
      "Processing day 2\n",
      "Finished processing day 2\n",
      "Processing day 3\n",
      "Finished processing day 3\n",
      "Finished processing feature type z1000\n",
      "Processing feature type z500\n",
      "Processing day 0\n",
      "Finished processing day 0\n",
      "Processing day 1\n",
      "Finished processing day 1\n",
      "Processing day 2\n",
      "Finished processing day 2\n",
      "Processing day 3\n",
      "Finished processing day 3\n",
      "Finished processing feature type z500\n",
      "Processing feature type z300\n",
      "Processing day 0\n",
      "Finished processing day 0\n",
      "Processing day 1\n",
      "Finished processing day 1\n",
      "Processing day 2\n",
      "Finished processing day 2\n",
      "Processing day 3\n",
      "Finished processing day 3\n",
      "Finished processing feature type z300\n"
     ]
    }
   ],
   "source": [
    "markov_b = pd.DataFrame([])\n",
    "#tic = time.time()\n",
    "for var in range(0, 9):\n",
    "\tdata = np.load('./sample_data/generated/npy_format/preproc_data2/%s.npy' % (meteo_vars[var]))\n",
    "\t\n",
    "\tprint('Processing feature type %s' % (meteo_vars[var]))\n",
    "\t\n",
    "\tfor day in range(0, 4):\n",
    "\t\t\n",
    "\t\tprint('Processing day %d' % (day))\n",
    "\t\t\n",
    "\t\tddata = data[offset+day:time+offset+day,:]\n",
    "\t\t\n",
    "\t\tfor loc in range(0, locations):\n",
    "\t\t\tcolname = '%d_%s_%d' % (loc, meteo_vars[var], day)\n",
    "\t\t\t\n",
    "\t\t\t#print('processing %s: ' % (colname))\n",
    "\t\t\t\n",
    "\t\t\tf_i = pd.DataFrame(ddata[:,loc], columns=[colname])\n",
    "\t\t\t\n",
    "\t\t\tif abs(zs(c, f_i)) < 1.96: \n",
    "\t\t\t\tcontinue\n",
    "\t\t\t\t\n",
    "\t\t\tif (disc_prune(f_i, markov_b) == False):\n",
    "\t\t\t\tcontinue\n",
    "\t\t\t\n",
    "\t\t\tmarkov_b = pd.concat([markov_b, f_i], axis=1)\n",
    "\t\t\n",
    "\t\tprint('Finished processing day %d' % (day))\n",
    "\t\t\n",
    "\t\t\n",
    "\t#pdb.set_trace()\n",
    "\tprint('Finished processing feature type %s' % (meteo_vars[var]))\n",
    "\t\t\n",
    "\t\t\t\n",
    "\n",
    "\n",
    "#toc = time.time()\n",
    "#print \"operation took %f minutes\" % ((toc - tic)/60)"
   ]
  },
  {
   "cell_type": "code",
   "execution_count": 19,
   "metadata": {
    "collapsed": false
   },
   "outputs": [
    {
     "data": {
      "text/plain": [
       "(11300, 19)"
      ]
     },
     "execution_count": 19,
     "metadata": {},
     "output_type": "execute_result"
    }
   ],
   "source": [
    "markov_b.shape"
   ]
  },
  {
   "cell_type": "code",
   "execution_count": 7,
   "metadata": {
    "collapsed": true
   },
   "outputs": [
    {
     "data": {
      "text/html": [
       "<div>\n",
       "<table border=\"1\" class=\"dataframe\">\n",
       "  <thead>\n",
       "    <tr style=\"text-align: right;\">\n",
       "      <th></th>\n",
       "      <th>1209_t850_1</th>\n",
       "      <th>1356_v850_0</th>\n",
       "      <th>3661_v850_2</th>\n",
       "      <th>3906_v850_3</th>\n",
       "      <th>3723_u850_2</th>\n",
       "      <th>1729_u850_3</th>\n",
       "      <th>3451_u850_3</th>\n",
       "      <th>2030_v300_0</th>\n",
       "      <th>3587_v300_0</th>\n",
       "      <th>4365_v300_0</th>\n",
       "      <th>1257_v300_1</th>\n",
       "      <th>1168_u300_2</th>\n",
       "      <th>4035_u300_2</th>\n",
       "      <th>606_z1000_3</th>\n",
       "      <th>4944_z1000_3</th>\n",
       "    </tr>\n",
       "  </thead>\n",
       "  <tbody>\n",
       "    <tr>\n",
       "      <th>0</th>\n",
       "      <td>282.46</td>\n",
       "      <td>-3.290000</td>\n",
       "      <td>0.630010</td>\n",
       "      <td>17.96</td>\n",
       "      <td>0.000008</td>\n",
       "      <td>1.08000</td>\n",
       "      <td>5.96</td>\n",
       "      <td>2.53</td>\n",
       "      <td>-9.07000</td>\n",
       "      <td>1.230000</td>\n",
       "      <td>-1.25000</td>\n",
       "      <td>25.21</td>\n",
       "      <td>-2.54</td>\n",
       "      <td>288</td>\n",
       "      <td>175</td>\n",
       "    </tr>\n",
       "    <tr>\n",
       "      <th>1</th>\n",
       "      <td>282.30</td>\n",
       "      <td>0.010008</td>\n",
       "      <td>0.430010</td>\n",
       "      <td>-6.42</td>\n",
       "      <td>6.710000</td>\n",
       "      <td>0.80001</td>\n",
       "      <td>6.80</td>\n",
       "      <td>3.63</td>\n",
       "      <td>-7.22000</td>\n",
       "      <td>-2.920000</td>\n",
       "      <td>-2.75000</td>\n",
       "      <td>24.18</td>\n",
       "      <td>-19.25</td>\n",
       "      <td>197</td>\n",
       "      <td>179</td>\n",
       "    </tr>\n",
       "    <tr>\n",
       "      <th>2</th>\n",
       "      <td>282.16</td>\n",
       "      <td>1.310000</td>\n",
       "      <td>-0.369990</td>\n",
       "      <td>7.91</td>\n",
       "      <td>5.180000</td>\n",
       "      <td>4.80000</td>\n",
       "      <td>1.88</td>\n",
       "      <td>5.33</td>\n",
       "      <td>0.16001</td>\n",
       "      <td>-4.470000</td>\n",
       "      <td>-2.49000</td>\n",
       "      <td>31.48</td>\n",
       "      <td>-20.82</td>\n",
       "      <td>234</td>\n",
       "      <td>167</td>\n",
       "    </tr>\n",
       "    <tr>\n",
       "      <th>3</th>\n",
       "      <td>282.58</td>\n",
       "      <td>3.230000</td>\n",
       "      <td>-0.769990</td>\n",
       "      <td>7.68</td>\n",
       "      <td>1.980000</td>\n",
       "      <td>3.93000</td>\n",
       "      <td>-2.09</td>\n",
       "      <td>5.33</td>\n",
       "      <td>0.13001</td>\n",
       "      <td>-4.040000</td>\n",
       "      <td>0.63001</td>\n",
       "      <td>16.66</td>\n",
       "      <td>-15.39</td>\n",
       "      <td>214</td>\n",
       "      <td>174</td>\n",
       "    </tr>\n",
       "    <tr>\n",
       "      <th>4</th>\n",
       "      <td>282.85</td>\n",
       "      <td>0.610010</td>\n",
       "      <td>0.060008</td>\n",
       "      <td>2.88</td>\n",
       "      <td>2.880000</td>\n",
       "      <td>2.33000</td>\n",
       "      <td>6.33</td>\n",
       "      <td>1.43</td>\n",
       "      <td>0.81001</td>\n",
       "      <td>0.010008</td>\n",
       "      <td>0.35001</td>\n",
       "      <td>16.38</td>\n",
       "      <td>-17.34</td>\n",
       "      <td>137</td>\n",
       "      <td>164</td>\n",
       "    </tr>\n",
       "  </tbody>\n",
       "</table>\n",
       "</div>"
      ],
      "text/plain": [
       "   1209_t850_1  1356_v850_0  3661_v850_2  3906_v850_3  3723_u850_2  \\\n",
       "0       282.46    -3.290000     0.630010        17.96     0.000008   \n",
       "1       282.30     0.010008     0.430010        -6.42     6.710000   \n",
       "2       282.16     1.310000    -0.369990         7.91     5.180000   \n",
       "3       282.58     3.230000    -0.769990         7.68     1.980000   \n",
       "4       282.85     0.610010     0.060008         2.88     2.880000   \n",
       "\n",
       "   1729_u850_3  3451_u850_3  2030_v300_0  3587_v300_0  4365_v300_0  \\\n",
       "0      1.08000         5.96         2.53     -9.07000     1.230000   \n",
       "1      0.80001         6.80         3.63     -7.22000    -2.920000   \n",
       "2      4.80000         1.88         5.33      0.16001    -4.470000   \n",
       "3      3.93000        -2.09         5.33      0.13001    -4.040000   \n",
       "4      2.33000         6.33         1.43      0.81001     0.010008   \n",
       "\n",
       "   1257_v300_1  1168_u300_2  4035_u300_2  606_z1000_3  4944_z1000_3  \n",
       "0     -1.25000        25.21        -2.54          288           175  \n",
       "1     -2.75000        24.18       -19.25          197           179  \n",
       "2     -2.49000        31.48       -20.82          234           167  \n",
       "3      0.63001        16.66       -15.39          214           174  \n",
       "4      0.35001        16.38       -17.34          137           164  "
      ]
     },
     "execution_count": 7,
     "metadata": {},
     "output_type": "execute_result"
    }
   ],
   "source": [
    "markov_b.head()"
   ]
  },
  {
   "cell_type": "code",
   "execution_count": 8,
   "metadata": {
    "collapsed": true
   },
   "outputs": [],
   "source": [
    "#let's save blanket for pearson correlation \n",
    "# there are 15 features\n",
    "markov_b.to_csv(r'./sample_data/generated/relevant_features/pearson.csv')"
   ]
  },
  {
   "cell_type": "code",
   "execution_count": 16,
   "metadata": {
    "collapsed": true
   },
   "outputs": [],
   "source": [
    "#let's save blanket for spearman correlation \n",
    "markov_b.to_csv(r'./sample_data/generated/relevant_features/spearman.csv')"
   ]
  },
  {
   "cell_type": "code",
   "execution_count": null,
   "metadata": {
    "collapsed": true
   },
   "outputs": [],
   "source": []
  }
 ],
 "metadata": {
  "kernelspec": {
   "display_name": "Python 2",
   "language": "python",
   "name": "python2"
  },
  "language_info": {
   "codemirror_mode": {
    "name": "ipython",
    "version": 2
   },
   "file_extension": ".py",
   "mimetype": "text/x-python",
   "name": "python",
   "nbconvert_exporter": "python",
   "pygments_lexer": "ipython2",
   "version": "2.7.11"
  }
 },
 "nbformat": 4,
 "nbformat_minor": 0
}
