{
 "cells": [
  {
   "cell_type": "code",
   "execution_count": 31,
   "metadata": {
    "collapsed": true
   },
   "outputs": [],
   "source": [
    "import gmplot"
   ]
  },
  {
   "cell_type": "code",
   "execution_count": 34,
   "metadata": {
    "collapsed": false
   },
   "outputs": [],
   "source": [
    "gmap = gmplot.GoogleMapPlotter(0, 0, 1)\n",
    "latitudes = [12, 12, 12]\n",
    "longitudes = [10, 20, 30]\n",
    "\n",
    "lat = [100, 65, 140]\n",
    "lon = [-1, 32, 60]\n",
    "\n",
    "\n",
    "#gmap.plot(latitudes, longitudes, 'cornflowerblue', edge_width=10)\n",
    "#gmap.scatter(latitudes, longitudes, 'k', marker=True)\n",
    "#gmap.circle(12, -12, 5)\n",
    "#circle(self, lat, lng, radius, color=None, c=None, **kwargs):\n",
    "gmap.scatter(latitudes, longitudes, 'w', marker=True, title=\"title\")\n",
    "\n",
    "gmap.draw(\"mm.html\")"
   ]
  },
  {
   "cell_type": "code",
   "execution_count": null,
   "metadata": {
    "collapsed": true
   },
   "outputs": [],
   "source": []
  }
 ],
 "metadata": {
  "kernelspec": {
   "display_name": "Python 2",
   "language": "python",
   "name": "python2"
  },
  "language_info": {
   "codemirror_mode": {
    "name": "ipython",
    "version": 2
   },
   "file_extension": ".py",
   "mimetype": "text/x-python",
   "name": "python",
   "nbconvert_exporter": "python",
   "pygments_lexer": "ipython2",
   "version": "2.7.11"
  }
 },
 "nbformat": 4,
 "nbformat_minor": 0
}
